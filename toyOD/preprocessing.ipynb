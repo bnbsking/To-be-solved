{
 "cells": [
  {
   "cell_type": "code",
   "execution_count": 4,
   "id": "3317485a",
   "metadata": {},
   "outputs": [
    {
     "name": "stdout",
     "output_type": "stream",
     "text": [
      "240 240 60 60\n"
     ]
    }
   ],
   "source": [
    "# https://www.kaggle.com/datasets/mbkinaci/fruit-images-for-object-detection\n",
    "import glob, os\n",
    "\n",
    "trainImgPathL = sorted( glob.glob(\"./archive/train_zip/train/*.jpg\") )\n",
    "trainAntPathL = sorted( glob.glob(\"./archive/train_zip/train/*.xml\") )\n",
    "validImgPathL = sorted( glob.glob(\"./archive/test_zip/test/*.jpg\") )\n",
    "validAntPathL = sorted( glob.glob(\"./archive/test_zip/test/*.xml\") )\n",
    "\n",
    "print( len(trainImgPathL), len(trainAntPathL), len(validImgPathL), len(validAntPathL) ) # 240, 240, 60, 60\n",
    "\n",
    "for imgPath,antPath in zip(trainImgPathL+validImgPathL, trainAntPathL+validAntPathL):\n",
    "    assert os.path.abspath(imgPath)[:-4] == os.path.abspath(antPath)[:-4], (imgPath,antPath)"
   ]
  },
  {
   "cell_type": "code",
   "execution_count": 2,
   "id": "34f2d3a2",
   "metadata": {
    "scrolled": true
   },
   "outputs": [
    {
     "ename": "NameError",
     "evalue": "name 'trainImgPathL' is not defined",
     "output_type": "error",
     "traceback": [
      "\u001b[1;31m---------------------------------------------------------------------------\u001b[0m",
      "\u001b[1;31mNameError\u001b[0m                                 Traceback (most recent call last)",
      "\u001b[1;32m~\\AppData\\Local\\Temp\\ipykernel_24444\\2003872151.py\u001b[0m in \u001b[0;36m<module>\u001b[1;34m\u001b[0m\n\u001b[0;32m      2\u001b[0m \u001b[1;32mimport\u001b[0m \u001b[0mvisualization\u001b[0m \u001b[1;32mas\u001b[0m \u001b[0mvis\u001b[0m\u001b[1;33m\u001b[0m\u001b[1;33m\u001b[0m\u001b[0m\n\u001b[0;32m      3\u001b[0m \u001b[1;33m\u001b[0m\u001b[0m\n\u001b[1;32m----> 4\u001b[1;33m \u001b[0mR\u001b[0m \u001b[1;33m=\u001b[0m \u001b[0mlist\u001b[0m\u001b[1;33m(\u001b[0m\u001b[0mrange\u001b[0m\u001b[1;33m(\u001b[0m\u001b[0mlen\u001b[0m\u001b[1;33m(\u001b[0m\u001b[0mtrainImgPathL\u001b[0m\u001b[1;33m)\u001b[0m\u001b[1;33m)\u001b[0m\u001b[1;33m)\u001b[0m\u001b[1;33m\u001b[0m\u001b[1;33m\u001b[0m\u001b[0m\n\u001b[0m\u001b[0;32m      5\u001b[0m \u001b[0mrandom\u001b[0m\u001b[1;33m.\u001b[0m\u001b[0mshuffle\u001b[0m\u001b[1;33m(\u001b[0m\u001b[0mR\u001b[0m\u001b[1;33m)\u001b[0m\u001b[1;33m\u001b[0m\u001b[1;33m\u001b[0m\u001b[0m\n\u001b[0;32m      6\u001b[0m \u001b[1;32mfor\u001b[0m \u001b[0mi\u001b[0m \u001b[1;32min\u001b[0m \u001b[0mrange\u001b[0m\u001b[1;33m(\u001b[0m\u001b[1;36m10\u001b[0m\u001b[1;33m)\u001b[0m\u001b[1;33m:\u001b[0m\u001b[1;33m\u001b[0m\u001b[1;33m\u001b[0m\u001b[0m\n",
      "\u001b[1;31mNameError\u001b[0m: name 'trainImgPathL' is not defined"
     ]
    }
   ],
   "source": [
    "import random\n",
    "import visualization as vis\n",
    "\n",
    "R = list(range(len(trainImgPathL)))\n",
    "random.shuffle(R)\n",
    "for i in range(10):\n",
    "    break\n",
    "    vis.show( trainImgPathL[R[i]], trainAntPathL[R[i]], classList=['apple','banana','orange'] )"
   ]
  },
  {
   "cell_type": "code",
   "execution_count": 6,
   "id": "7c808ae4",
   "metadata": {},
   "outputs": [
    {
     "name": "stdout",
     "output_type": "stream",
     "text": [
      "{'apple': 156, 'banana': 169, 'orange': 140}\n"
     ]
    }
   ],
   "source": [
    "import re\n",
    "\n",
    "classD = {}\n",
    "for trainAntPath in trainAntPathL:\n",
    "    txt = open(trainAntPath, \"r\").read()\n",
    "    catL = re.findall(\"<name>(.*)</name>\", txt)\n",
    "    for cat in catL:\n",
    "        classD[cat] = classD[cat]+1 if cat in classD else 1\n",
    "print( classD )"
   ]
  },
  {
   "cell_type": "code",
   "execution_count": 7,
   "id": "57a7cac4",
   "metadata": {},
   "outputs": [
    {
     "name": "stdout",
     "output_type": "stream",
     "text": [
      "{(349, 349): 1, (1500, 1500): 1, (436, 652): 1, (428, 450): 1, (800, 800): 2, (640, 960): 1, (1046, 1400): 1, (300, 333): 1, (800, 700): 1, (458, 610): 1, (1200, 1600): 1, (250, 250): 5, (500, 500): 9, (426, 640): 1, (693, 693): 1, (1696, 1132): 1, (241, 350): 1, (350, 700): 1, (300, 300): 2, (708, 1000): 1, (439, 780): 1, (947, 1320): 1, (797, 800): 1, (450, 298): 1, (171, 166): 1, (352, 389): 1, (1390, 1300): 1, (768, 1366): 1, (240, 351): 1, (387, 620): 1, (287, 338): 1, (720, 720): 1, (335, 337): 1, (452, 602): 1, (600, 800): 1, (641, 960): 1, (300, 271): 1, (350, 620): 1, (227, 300): 1, (295, 260): 1, (450, 468): 1, (261, 300): 1, (936, 1023): 1, (232, 350): 1, (900, 1200): 1, (533, 800): 1, (810, 720): 1, (1135, 1600): 1, (587, 950): 1, (645, 645): 1, (340, 490): 1, (720, 1280): 1, (640, 640): 1, (476, 634): 1, (1010, 1010): 1, (1332, 1300): 1, (250, 196): 1, (368, 654): 1, (220, 220): 1, (290, 290): 1, (353, 450): 1, (168, 238): 1, (525, 700): 1, (406, 722): 1, (480, 720): 1, (620, 640): 1, (2850, 2850): 1, (386, 514): 1, (595, 1000): 1, (840, 1000): 1, (350, 625): 1, (417, 640): 1, (630, 1200): 1, (327, 640): 1, (505, 331): 1, (408, 780): 1, (1205, 1600): 1, (1008, 1008): 1, (511, 768): 1, (354, 444): 1, (383, 694): 1, (160, 196): 1, (512, 718): 1, (318, 300): 1, (210, 312): 1, (576, 1024): 1, (500, 600): 1, (460, 460): 1, (756, 1100): 1, (420, 634): 1, (1080, 1920): 1, (290, 437): 1, (450, 680): 1, (780, 724): 1, (219, 438): 1, (263, 350): 1, (330, 660): 1, (1800, 1200): 1, (413, 620): 1, (416, 800): 1, (180, 501): 1, (440, 409): 1, (768, 1024): 1, (2104, 1360): 1, (1000, 1910): 1, (4605, 2569): 1, (485, 728): 1, (1394, 2091): 1, (700, 900): 1, (364, 640): 1, (360, 640): 1, (1118, 1300): 1, (421, 673): 1, (427, 640): 1, (282, 425): 1, (355, 355): 1, (674, 1199): 1, (320, 700): 1, (865, 615): 1, (900, 1940): 1, (224, 478): 1, (1332, 2000): 1, (374, 581): 1, (180, 300): 1, (1280, 1920): 1, (2728, 2048): 1, (564, 800): 1, (637, 1024): 1, (1223, 1360): 1, (798, 1200): 1, (417, 439): 1, (423, 630): 1, (682, 1023): 1, (279, 300): 1, (957, 1300): 1, (306, 350): 1, (657, 800): 1, (857, 640): 1, (1024, 1024): 1, (233, 350): 1, (516, 800): 1, (757, 800): 1, (470, 450): 1, (347, 640): 1, (167, 280): 1, (720, 686): 1, (336, 640): 1, (249, 269): 1, (293, 300): 1, (398, 600): 1, (448, 450): 1, (797, 1200): 1, (425, 432): 1, (375, 500): 1, (584, 670): 1, (1225, 1300): 1, (1200, 1999): 1, (508, 900): 1, (350, 350): 1, (853, 1280): 1, (195, 200): 1, (450, 450): 1, (282, 426): 1, (320, 320): 1, (625, 960): 1, (648, 640): 1, (1177, 1300): 1, (293, 400): 1, (540, 960): 1, (295, 300): 1, (483, 600): 1, (600, 600): 2, (720, 960): 1, (800, 1280): 1, (1969, 1969): 1, (257, 343): 1, (280, 300): 1, (351, 427): 1, (194, 270): 1, (343, 440): 1, (430, 573): 1, (400, 602): 1, (952, 1024): 1, (1088, 1292): 1, (720, 540): 1, (320, 600): 1, (400, 400): 1, (240, 333): 1, (1951, 1824): 1, (1300, 1300): 1, (350, 682): 1, (2072, 3160): 1, (510, 510): 1, (477, 602): 1, (640, 1024): 1, (626, 1200): 1, (564, 791): 1, (1249, 1400): 1, (416, 416): 1, (380, 500): 1, (1080, 1620): 1, (393, 600): 1, (427, 500): 1}\n"
     ]
    }
   ],
   "source": [
    "import cv2\n",
    "\n",
    "shapeD = {}\n",
    "for trainImgPath in trainImgPathL:\n",
    "    h, w, c = cv2.imread(trainImgPath).shape\n",
    "    shapeD[(h,w)] = shapeD[(w,h)]+1 if (w,h) in shapeD else 1 \n",
    "print( shapeD )"
   ]
  },
  {
   "cell_type": "code",
   "execution_count": 8,
   "id": "d1e8c6bf",
   "metadata": {},
   "outputs": [
    {
     "data": {
      "image/png": "[encoded data removed]",
      "text/plain": [
       "<Figure size 640x480 with 1 Axes>"
      ]
     },
     "metadata": {},
     "output_type": "display_data"
    }
   ],
   "source": [
    "import matplotlib.pyplot as plt\n",
    "\n",
    "H = [ h for h,_ in shapeD.keys() ]\n",
    "W = [ w for _,w in shapeD.keys() ]\n",
    "plt.scatter( H,W )\n",
    "plt.show()"
   ]
  },
  {
   "cell_type": "code",
   "execution_count": 9,
   "id": "eeb80e47",
   "metadata": {},
   "outputs": [],
   "source": [
    "# 224, 112, 56, 28"
   ]
  },
  {
   "cell_type": "code",
   "execution_count": 11,
   "id": "13feee87",
   "metadata": {},
   "outputs": [
    {
     "name": "stdout",
     "output_type": "stream",
     "text": [
      "{1: 140, 3: 36, 2: 35, 5: 5, 7: 3, 6: 2, 8: 2, 4: 16, 9: 1}\n"
     ]
    }
   ],
   "source": [
    "numD = {}\n",
    "for trainAntPath in trainAntPathL:\n",
    "    txt = open(trainAntPath, \"r\").read()\n",
    "    n   = len( re.findall(\"<object>\",txt) )\n",
    "    numD[n] = numD[n]+1 if n in numD else 1\n",
    "print( numD )"
   ]
  },
  {
   "cell_type": "code",
   "execution_count": null,
   "id": "65cb3259",
   "metadata": {},
   "outputs": [],
   "source": []
  }
 ],
 "metadata": {
  "kernelspec": {
   "display_name": "Python 3 (ipykernel)",
   "language": "python",
   "name": "python3"
  },
  "language_info": {
   "codemirror_mode": {
    "name": "ipython",
    "version": 3
   },
   "file_extension": ".py",
   "mimetype": "text/x-python",
   "name": "python",
   "nbconvert_exporter": "python",
   "pygments_lexer": "ipython3",
   "version": "3.7.13"
  }
 },
 "nbformat": 4,
 "nbformat_minor": 5
}
