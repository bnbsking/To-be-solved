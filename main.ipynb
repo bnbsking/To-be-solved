{
 "cells": [
  {
   "cell_type": "code",
   "execution_count": 1,
   "id": "9759386e",
   "metadata": {},
   "outputs": [
    {
     "data": {
      "text/plain": [
       "0"
      ]
     },
     "execution_count": 1,
     "metadata": {},
     "output_type": "execute_result"
    }
   ],
   "source": [
    "\"\"\"\n",
    "This implementation is for basic \"anchor-based object detection learner\", so not optimized\n",
    "\"\"\"\n",
    "0"
   ]
  },
  {
   "cell_type": "code",
   "execution_count": 2,
   "id": "af636bef",
   "metadata": {},
   "outputs": [],
   "source": [
    "import random, math, time, os, glob, re\n",
    "import pandas as pd\n",
    "import numpy as np\n",
    "import matplotlib.pyplot as plt\n",
    "import cv2\n",
    "import torch\n",
    "from torch.utils.data import Dataset, DataLoader\n",
    "from torch import nn\n",
    "import torch.optim as optim\n",
    "import visualization as vis\n",
    "#vis.show?"
   ]
  },
  {
   "cell_type": "code",
   "execution_count": 3,
   "id": "d75b3f1a",
   "metadata": {},
   "outputs": [
    {
     "name": "stdout",
     "output_type": "stream",
     "text": [
      "240 60\n",
      "torch.Size([3, 224, 224]) torch.Size([10, 5])\n"
     ]
    }
   ],
   "source": [
    "class MyDataset(Dataset):\n",
    "    def __init__(self, imgPathL, antPathL, classL):\n",
    "        self.imgPathL = imgPathL\n",
    "        self.antPathL = antPathL\n",
    "        self.classL   = classL\n",
    "        assert len(self.imgPathL)==len(self.antPathL)\n",
    "    \n",
    "    def __len__(self):\n",
    "        return len(self.imgPathL)\n",
    "    \n",
    "    def __getitem__(self, index):\n",
    "        img   = cv2.imread( self.imgPathL[index] )/255\n",
    "        rawShape = torch.Tensor( img.shape[:-1] )\n",
    "        img   = cv2.resize( img, (224,224) )\n",
    "        img   = torch.Tensor(img).permute(2,0,1)\n",
    "        #\n",
    "        xml   = open(self.antPathL[index],\"r\").read()\n",
    "        catL  = re.findall(\"<name>(.*)</name>\", xml)\n",
    "        xminL = re.findall(\"<xmin>(.*)</xmin>\", xml)\n",
    "        yminL = re.findall(\"<ymin>(.*)</ymin>\", xml)\n",
    "        xmaxL = re.findall(\"<xmax>(.*)</xmax>\", xml)\n",
    "        ymaxL = re.findall(\"<ymax>(.*)</ymax>\", xml)\n",
    "        L = [] # flaot voc\n",
    "        \n",
    "        \"gt belong\"\n",
    "        belongB = [  ] # (B,28,28,2,5)\n",
    "        \n",
    "        for i in range(10):\n",
    "            if i<len(catL):\n",
    "                xmin, ymin = int(xminL[i])/rawShape[1], int(yminL[i])/rawShape[0]\n",
    "                xmax, ymax = int(xmaxL[i])/rawShape[1], int(ymaxL[i])/rawShape[0]\n",
    "                L.append( [self.classL.index(catL[i]), xmin, ymin, xmax, ymax] )\n",
    "            else:\n",
    "                L.append( [-1,0,0,0,0] )\n",
    "        ant = torch.Tensor(L)\n",
    "        return img, ant, rawShape\n",
    "\n",
    "trainImgPathL = sorted(glob.glob(\"./archive/train_zip/train/*.jpg\"))\n",
    "trainAntPathL = sorted(glob.glob(\"./archive/train_zip/train/*.xml\"))\n",
    "validImgPathL = sorted(glob.glob(\"./archive/test_zip/test/*.jpg\"))\n",
    "validAntPathL = sorted(glob.glob(\"./archive/test_zip/test/*.xml\"))\n",
    "trainDataset  = MyDataset(trainImgPathL, trainAntPathL, [\"apple\",\"banana\",\"orange\"])\n",
    "validDataset  = MyDataset(validImgPathL, validAntPathL, [\"apple\",\"banana\",\"orange\"])\n",
    "\n",
    "print( len(trainDataset), len(validDataset) )\n",
    "img, ant, rawShape = trainDataset[0]\n",
    "print( img.shape, ant.shape )"
   ]
  },
  {
   "cell_type": "code",
   "execution_count": 4,
   "id": "d9669bf2",
   "metadata": {},
   "outputs": [
    {
     "name": "stdout",
     "output_type": "stream",
     "text": [
      "15 4\n"
     ]
    }
   ],
   "source": [
    "trainDataLoader = DataLoader(trainDataset, batch_size=16, pin_memory=False)\n",
    "validDataLoader = DataLoader(validDataset, batch_size=16, pin_memory=False)\n",
    "print( len(trainDataLoader), len(validDataLoader) ) # 240/16=15 # 60/16=4"
   ]
  },
  {
   "cell_type": "code",
   "execution_count": 5,
   "id": "0475e2d0",
   "metadata": {},
   "outputs": [
    {
     "name": "stdout",
     "output_type": "stream",
     "text": [
      "torch.Size([16, 72, 28, 28]) torch.Size([16, 10, 5]) torch.Size([16, 2])\n"
     ]
    }
   ],
   "source": [
    "cats = 3\n",
    "anchors = [(1.000,1.000), (0.666,1.333), (1.333,0.666),\\\n",
    "           (2.000,2.000), (1.333,2.666), (2.666,1.333),\\\n",
    "           (4.000,4.000), (2.666,5.333), (5.333,2.666),]\n",
    "\n",
    "class MyModel(nn.Module):\n",
    "    def __init__(self, cats, anchors):\n",
    "        super().__init__()\n",
    "        self.conv1   = nn.Conv2d(in_channels=3, out_channels=64, kernel_size=3, stride=1, padding=1)\n",
    "        self.relu1   = nn.ReLU()\n",
    "        self.maxpool1= nn.MaxPool2d(2)\n",
    "        self.conv2   = nn.Conv2d(in_channels=64, out_channels=64, kernel_size=3, stride=1, padding=1)\n",
    "        self.relu2   = nn.ReLU()\n",
    "        self.maxpool2= nn.MaxPool2d(2)\n",
    "        self.conv3   = nn.Conv2d(in_channels=64, out_channels=64, kernel_size=3, stride=1, padding=1)\n",
    "        self.relu3   = nn.ReLU()\n",
    "        self.maxpool3= nn.MaxPool2d(2)\n",
    "        outC         = (cats+1+4)*len(anchors)\n",
    "        self.conv4   = nn.Conv2d(in_channels=64, out_channels=outC, kernel_size=3, stride=1, padding=1)\n",
    "    def forward(self, x): # (bz,3,224,224)\n",
    "        x = self.conv1(x)\n",
    "        x = self.relu1(x)\n",
    "        x = self.maxpool1(x) # (bz,64,112,112) # x2\n",
    "        x = self.conv2(x)\n",
    "        x = self.relu2(x)\n",
    "        x = self.maxpool2(x) # (bz,64,56,56) # x4\n",
    "        x = self.conv3(x)\n",
    "        x = self.relu3(x)\n",
    "        x = self.maxpool3(x) # (bz,64,28,28) # x8\n",
    "        x = self.conv4(x)\n",
    "        return x\n",
    "\n",
    "model = MyModel(cats, anchors)\n",
    "for img, ant, rawShape in trainDataLoader:\n",
    "    out = model( img )\n",
    "    print( out.shape, ant.shape, rawShape.shape )\n",
    "    break\n",
    "# 72=8*9 # 8: (cls0,cls1,cls2,clsB,cx,cy,w,h)"
   ]
  },
  {
   "cell_type": "code",
   "execution_count": 89,
   "id": "c095f9dd",
   "metadata": {},
   "outputs": [],
   "source": [
    "# 1 optimize loss speed\n",
    "# 2 training code\n",
    "\n",
    "def iou(boxA, boxB): # VOC\n",
    "    (xminA, yminA, xmaxA, ymaxA), (xminB, yminB, xmaxB, ymaxB) = boxA, boxB\n",
    "    inter = max(0,min(ymaxA,ymaxB)-max(yminA,yminB)) * max(0,min(xmaxA,xmaxB)-max(xminA,xminB))\n",
    "    areaA = (ymaxA-yminA) * (xmaxA-xminA)\n",
    "    areaB = (ymaxB-yminB) * (xmaxB-xminB)\n",
    "    return inter / (areaA+areaB-inter) if (areaA+areaB-inter)!=0 else 0\n",
    "\n",
    "iouL = []\n",
    "# 1/cat * Sigma cls (cross entropy) + 10/anchors * Sigma reg (yolov1 coordinates loss)\n",
    "class MyLoss(nn.Module):\n",
    "    def __init__(self, cats, anchors):\n",
    "        super().__init__()\n",
    "        self.cats    = cats\n",
    "        self.anchors = anchors\n",
    "        self.ce      = nn.CrossEntropyLoss()\n",
    "        self.na      = 28*28*len(anchors)\n",
    "    \n",
    "    def forward(self, yPredB, yTrueB): # (16,72,28,28), (16,10,5) # 40 secs # loss=220k\n",
    "        \"gt belong\"\n",
    "        belongB = [  ] # (B,28,28,2,5)\n",
    "        for yTrue in yTrueB:\n",
    "            labels = yTrue[ yTrue[:,0]>-1 ]\n",
    "            for x,y in zip(labels[:,1], labels[:,2]):\n",
    "                print(x,y)\n",
    "        return                        \n",
    "        \n",
    "        loss = 0\n",
    "        BLoss, CLoss = 0,0\n",
    "        R    = torch.Tensor(list(range(28)))/28\n",
    "        BG   = torch.Tensor([cats]).type(torch.int64)\n",
    "        pos, mid, neg = 0, 0, 0\n",
    "        \n",
    "        \n",
    "        #for yPred,yTrue in zip(yPredB,yTrueB): # iterate over batches # (72=8*9,28,28), (10,5), (2,)\n",
    "        \n",
    "        for a,(ah,aw) in enumerate(self.anchors): # iterate over anchor sizes\n",
    "            scaleAnchors = yPredB[:,a*(self.cats+5):(a+1)*(self.cats+5),:,:] # (B,8,28,28)\n",
    "            \"classification\"\n",
    "            c = scaleAnchors[:,:self.cats+1,:,:] # (B,c+1,28,28)\n",
    "            c = torch.softmax(c, axis=1).permute(0,2,3,1).flatten(1,2) # (B,784,c+1)\n",
    "            \n",
    "            \"regression: convert to yolo with anchors\"\n",
    "            r  = scaleAnchors[:,self.cats+1:,:,:] # (B,4,28,28)\n",
    "            cx = r[:,0,:,:] + R # add along axis 0 recursively # (B,28,28)+(28,) = (B,28,28)\n",
    "            cy = r[:,0,:,:] + R # (B,28,28)\n",
    "            w  = (torch.abs(r[:,2,:,:])+1/28)*aw # (B,28,28)\n",
    "            h  = (torch.abs(r[:,3,:,:])+1/28)*ah # (B,28,28)\n",
    "            xmin = (cx-w/2).flatten() # (B,784)\n",
    "            ymin = (cy-h/2).flatten() # (B,784)\n",
    "            xmax = (cx+w/2).flatten() # (B,784)\n",
    "            ymax = (cy+h/2).flatten() # (B,784)\n",
    "            w  = w.flatten()\n",
    "            h  = h.flatten()\n",
    "            \n",
    "            \"compute loss\"\n",
    "            for i,yTrue in enumerate(yTrueB): # (10,5)\n",
    "                D\n",
    "            \n",
    "            \n",
    "            if False:                \n",
    "                \"compute loss\"\n",
    "                yTrue = yTrue[ yTrue[:,0]>-1 ]\n",
    "                for gtc, gtxmin, gtymin, gtxmax, gtymax in yTrue:\n",
    "                    for i in range(784):\n",
    "                        iou_val = iou( (gtxmin, gtymin, gtxmax, gtymax), (xmin[i], ymin[i], xmax[i], ymax[i]) )\n",
    "                        iouL.append(iou_val)\n",
    "                        if iou_val>=0.7:\n",
    "                            pos+=1; #continue\n",
    "                            gtw, gth = gtxmax-gtxmin, gtymax-gtymin\n",
    "                            boxLoss  = (gtxmax-xmin[i])**2 +(gtymin-ymin[i])**2 +(gtw**0.5-w[i]**0.5)**2 +(gth**0.5-h[i]**0.5)**2\n",
    "                            catLoss  = self.ce(c[i:i+1,:], torch.Tensor([gtc]).type(torch.int64) )\n",
    "                            #print(boxLoss, catLoss)\n",
    "                        elif iou_val<0.3:\n",
    "                            if random.random()>0.0001: # balance\n",
    "                                continue\n",
    "                            neg+=1; #continue\n",
    "                            boxLoss  = 0\n",
    "                            catLoss  = self.ce(c[i:i+1,:], BG )\n",
    "                        else:\n",
    "                            mid+=1; continue\n",
    "                        BLoss+=1000*10/self.na*boxLoss / (pos) if pos!=0 else 0\n",
    "                        CLoss+=catLoss / (pos+neg)\n",
    "                        loss += BLoss + CLoss\n",
    "                #break\n",
    "            #break\n",
    "            print(\"anchors\", pos, mid, neg)\n",
    "            #break\n",
    "            #print(\"A\")\n",
    "        return loss, BLoss, CLoss\n",
    "    \n",
    "#     def forward(self, yPredB, yTrueB): # (16,72,28,28), (16,10,5) # 40 secs # loss=220k\n",
    "#         loss = 0\n",
    "#         BLoss, CLoss = 0,0\n",
    "#         R    = torch.Tensor(list(range(28)))/28\n",
    "#         BG   = torch.Tensor([cats]).type(torch.int64)\n",
    "#         pos, mid, neg = 0, 0, 0\n",
    "#         for yPred,yTrue in zip(yPredB,yTrueB): # iterate over batches # (24,28,28), (10,5), (2,)\n",
    "#             for a,(ah,aw) in enumerate(self.anchors): # iterate over anchor sizes\n",
    "#                 scaleAnchors = yPred[a*(self.cats+5):(a+1)*(self.cats+5)] # (8,28,28)\n",
    "#                 c = scaleAnchors[:self.cats+1,:,:] # (c+1,28,28)\n",
    "#                 c = torch.softmax(c, axis=0).permute(1,2,0).flatten(0,1) # (784,c+1)\n",
    "                \n",
    "#                 \"convert to yolo with anchors\"\n",
    "#                 r = scaleAnchors[self.cats+1:,:,:] # ((cx,cy,w,h),28,28)\n",
    "#                 cx = r[0,:,:] + R # add alog axis 0 by default # (28,28)+(28,)=(28,28)\n",
    "#                 cy = r[1,:,:] + R # (28,28)\n",
    "#                 w  = (torch.abs(r[2,:,:])+1/28)*aw # (28,28)\n",
    "#                 h  = (torch.abs(r[3,:,:])+1/28)*ah # (28,28)\n",
    "#                 xmin = (cx-w/2).flatten() # (784,)\n",
    "#                 ymin = (cy-h/2).flatten() # (784,)\n",
    "#                 xmax = (cx+w/2).flatten() # (784,)\n",
    "#                 ymax = (cy+h/2).flatten() # (784,)\n",
    "#                 w  = w.flatten()\n",
    "#                 h  = h.flatten()\n",
    "                \n",
    "#                 \"compute loss\"\n",
    "#                 yTrue = yTrue[ yTrue[:,0]>-1 ]\n",
    "#                 for gtc, gtxmin, gtymin, gtxmax, gtymax in yTrue:\n",
    "#                     for i in range(784):\n",
    "#                         iou_val = iou( (gtxmin, gtymin, gtxmax, gtymax), (xmin[i], ymin[i], xmax[i], ymax[i]) )\n",
    "#                         iouL.append(iou_val)\n",
    "#                         if iou_val>=0.7:\n",
    "#                             pos+=1; #continue\n",
    "#                             gtw, gth = gtxmax-gtxmin, gtymax-gtymin\n",
    "#                             boxLoss  = (gtxmax-xmin[i])**2 +(gtymin-ymin[i])**2 +(gtw**0.5-w[i]**0.5)**2 +(gth**0.5-h[i]**0.5)**2\n",
    "#                             catLoss  = self.ce(c[i:i+1,:], torch.Tensor([gtc]).type(torch.int64) )\n",
    "#                             #print(boxLoss, catLoss)\n",
    "#                         elif iou_val<0.3:\n",
    "#                             if random.random()>0.0001: # balance\n",
    "#                                 continue\n",
    "#                             neg+=1; #continue\n",
    "#                             boxLoss  = 0\n",
    "#                             catLoss  = self.ce(c[i:i+1,:], BG )\n",
    "#                         else:\n",
    "#                             mid+=1; continue\n",
    "#                         BLoss+=1000*10/self.na*boxLoss / (pos) if pos!=0 else 0\n",
    "#                         CLoss+=catLoss / (pos+neg)\n",
    "#                         loss += BLoss + CLoss\n",
    "#                 #break\n",
    "#             #break\n",
    "#             print(\"anchors\", pos, mid, neg)\n",
    "#             #break\n",
    "#             #print(\"A\")\n",
    "#         return loss, BLoss, CLoss\n",
    "    \n",
    "#     def forwardx(self, yPredB, yTrueB): # 68 secs, loss=220k\n",
    "#         loss = 0\n",
    "#         #pos, mid, neg = 0, 0, 0\n",
    "#         for yPred,yTrue in zip(yPredB,yTrueB): # iterate over batches # (24,28,28), (10,5), (2,)\n",
    "#             for a,(ah,aw) in enumerate(self.anchors): # iterate over anchor sizes\n",
    "#                 scaleAnchors = yPred[a*(self.cats+5):(a+1)*(self.cats+5)] # (8,28,28)\n",
    "#                 for i in range(scaleAnchors.shape[1]): # iterate over grids\n",
    "#                     for j in range(scaleAnchors.shape[2]):\n",
    "#                         vec  = scaleAnchors[:,i,j] # (8,)\n",
    "#                         c    = vec[:self.cats+1] # cls0,cls1,cls2,clsB\n",
    "#                         c    = torch.softmax(c,axis=0).unsqueeze(0) # (1,4)\n",
    "#                         dcx, dcy, dw, dh = vec[self.cats+1:] # yolo grid\n",
    "#                         #print(dcx, dcy, dw, dh)\n",
    "                        \n",
    "#                         \"convert to yolo with anchors\"\n",
    "#                         cx,     cy,    w,    h = j/28+dcx, i/28+dcy, (abs(dw)+1/28)*aw, (abs(dh)+1/28)*ah\n",
    "#                         xmin, ymin, xmax, ymax = (cx-w/2), (cy-h/2), (cx+w/2), (cy+h/2)\n",
    "#                         # print(a, i, j, [ round(float(e),4) if type(e)!=str else \"|\" for e in [cx,cy,w,h,\"|\",xmin,ymin,xmax,ymax] ] )\n",
    "#                         # continue\n",
    "                        \n",
    "#                         \"compute loss\"\n",
    "#                         yTrue = yTrue[ yTrue[:,0]>-1 ]\n",
    "#                         for cid, gtxmin, gtymin, gtxmax, gtymax in yTrue:\n",
    "#                             iou_val = iou( (gtxmin, gtymin, gtxmax, gtymax), (xmin, ymin, xmax, ymax) )\n",
    "#                             #iouL.append(iou_val)\n",
    "#                             if iou_val>=0.7:\n",
    "#                                 #pos+=1; continue\n",
    "#                                 gtw, gth = gtxmax-gtxmin, gtymax-gtymin\n",
    "#                                 boxLoss  = (gtxmax-xmin)**2 +(gtymin-ymin)**2 +(gtw**0.5-w**0.5)**2 +(gth**0.5-h**0.5)**2\n",
    "#                                 catLoss  = self.ce( c, torch.Tensor([cid]).type(torch.int64) )\n",
    "#                                 #print(boxLoss, catLoss)\n",
    "#                             elif iou_val<0.3:\n",
    "#                                 #neg+=1; continue\n",
    "#                                 boxLoss  = 0\n",
    "#                                 catLoss  = self.ce( c, torch.Tensor([cats]).type(torch.int64) )\n",
    "#                             else:\n",
    "#                                 #mid+=1\n",
    "#                                 continue\n",
    "#                             loss += catLoss + 10/self.na*boxLoss\n",
    "#                 #break\n",
    "#             #break\n",
    "#             #print(pos, mid, neg)\n",
    "#             #break\n",
    "#             print(\"A\")\n",
    "#         return loss"
   ]
  },
  {
   "cell_type": "code",
   "execution_count": 90,
   "id": "8ca0e973",
   "metadata": {},
   "outputs": [
    {
     "data": {
      "text/plain": [
       "tensor([[ 0.0000,  0.0420,  0.1467,  0.8108,  1.0000],\n",
       "        [-1.0000,  0.0000,  0.0000,  0.0000,  0.0000],\n",
       "        [-1.0000,  0.0000,  0.0000,  0.0000,  0.0000],\n",
       "        [-1.0000,  0.0000,  0.0000,  0.0000,  0.0000],\n",
       "        [-1.0000,  0.0000,  0.0000,  0.0000,  0.0000],\n",
       "        [-1.0000,  0.0000,  0.0000,  0.0000,  0.0000],\n",
       "        [-1.0000,  0.0000,  0.0000,  0.0000,  0.0000],\n",
       "        [-1.0000,  0.0000,  0.0000,  0.0000,  0.0000],\n",
       "        [-1.0000,  0.0000,  0.0000,  0.0000,  0.0000],\n",
       "        [-1.0000,  0.0000,  0.0000,  0.0000,  0.0000]])"
      ]
     },
     "execution_count": 90,
     "metadata": {},
     "output_type": "execute_result"
    }
   ],
   "source": [
    "ant[7]"
   ]
  },
  {
   "cell_type": "code",
   "execution_count": 91,
   "id": "98d9183e",
   "metadata": {
    "scrolled": true
   },
   "outputs": [
    {
     "name": "stdout",
     "output_type": "stream",
     "text": [
      "tensor(0.0229) tensor(0.0430)\n",
      "tensor(0.0373) tensor(0.0660)\n",
      "tensor(0.3267) tensor(0.0757)\n",
      "tensor(0.0015) tensor(0.0688)\n",
      "tensor(0.1779) tensor(0.0115)\n",
      "tensor(0.0956) tensor(0.0491)\n",
      "tensor(0.5188) tensor(0.3262)\n",
      "tensor(0.1312) tensor(0.5325)\n",
      "tensor(0.2425) tensor(0.3625)\n",
      "tensor(0.3313) tensor(0.2281)\n",
      "tensor(0.4593) tensor(0.3480)\n",
      "tensor(0.0420) tensor(0.1467)\n",
      "tensor(0.1614) tensor(0.3225)\n",
      "tensor(0.2361) tensor(0.2969)\n",
      "tensor(0.0987) tensor(0.0967)\n",
      "tensor(0.1480) tensor(0.2080)\n",
      "tensor(0.0460) tensor(0.1100)\n",
      "tensor(0.1516) tensor(0.2981)\n",
      "tensor(0.4906) tensor(0.2629)\n",
      "tensor(0.1962) tensor(0.2872)\n",
      "tensor(0.2940) tensor(0.4360)\n",
      "tensor(0.1980) tensor(0.2620)\n",
      "tensor(0.4700) tensor(0.2840)\n",
      "None\n",
      "0.010008573532104492\n"
     ]
    }
   ],
   "source": [
    "import time\n",
    "lossFunc = MyLoss(cats, anchors)\n",
    "s = time.time()\n",
    "print(lossFunc(out, ant))\n",
    "print(time.time()-s) # 65 sec"
   ]
  },
  {
   "cell_type": "code",
   "execution_count": 86,
   "id": "e8b86579",
   "metadata": {},
   "outputs": [
    {
     "data": {
      "image/png": "[encoded data removed]",
      "text/plain": [
       "<Figure size 640x480 with 1 Axes>"
      ]
     },
     "metadata": {},
     "output_type": "display_data"
    }
   ],
   "source": [
    "plt.plot( [ float(x) for x in iouL ] )\n",
    "plt.show() # all anchors iou"
   ]
  },
  {
   "cell_type": "code",
   "execution_count": 154,
   "id": "fdf65261",
   "metadata": {},
   "outputs": [
    {
     "data": {
      "image/png": "[encoded data removed]",
      "text/plain": [
       "<Figure size 640x480 with 1 Axes>"
      ]
     },
     "metadata": {},
     "output_type": "display_data"
    },
    {
     "name": "stdout",
     "output_type": "stream",
     "text": [
      "32\n"
     ]
    }
   ],
   "source": [
    "plt.plot( [ float(x) for x in iouL ] )\n",
    "plt.show() # all anchors iou\n",
    "print( len([ float(x) for x in iouL if float(x)>0.7 ]) )"
   ]
  },
  {
   "cell_type": "code",
   "execution_count": 101,
   "id": "63a9ff36",
   "metadata": {},
   "outputs": [
    {
     "data": {
      "text/plain": [
       "tensor([[101., 202.],\n",
       "        [103., 204.]])"
      ]
     },
     "execution_count": 101,
     "metadata": {},
     "output_type": "execute_result"
    }
   ],
   "source": [
    "torch.Tensor([[1,2],[3,4]]) + torch.Tensor([100,200])"
   ]
  },
  {
   "cell_type": "code",
   "execution_count": 133,
   "id": "3aa34a71",
   "metadata": {},
   "outputs": [
    {
     "name": "stdout",
     "output_type": "stream",
     "text": [
      "tensor([[[-1.3014,  0.1270, -1.2077,  0.3704],\n",
      "         [ 1.7506,  0.4490, -1.3556, -0.6020],\n",
      "         [ 0.2827,  0.0272, -0.4709, -0.4173]],\n",
      "\n",
      "        [[-0.0126,  0.7924,  0.2863,  0.4084],\n",
      "         [ 1.0585,  0.4490,  0.5997, -1.3732],\n",
      "         [-0.9512, -0.0773,  0.8045,  0.0669]]])\n",
      "tensor([[-1.3014,  0.1270, -1.2077,  0.3704],\n",
      "        [ 1.7506,  0.4490, -1.3556, -0.6020],\n",
      "        [ 0.2827,  0.0272, -0.4709, -0.4173],\n",
      "        [-0.0126,  0.7924,  0.2863,  0.4084],\n",
      "        [ 1.0585,  0.4490,  0.5997, -1.3732],\n",
      "        [-0.9512, -0.0773,  0.8045,  0.0669]])\n",
      "tensor([[-1.3014,  0.1270, -1.2077,  0.3704,  1.7506,  0.4490, -1.3556, -0.6020,\n",
      "          0.2827,  0.0272, -0.4709, -0.4173],\n",
      "        [-0.0126,  0.7924,  0.2863,  0.4084,  1.0585,  0.4490,  0.5997, -1.3732,\n",
      "         -0.9512, -0.0773,  0.8045,  0.0669]])\n"
     ]
    }
   ],
   "source": [
    "T = torch.randn(2,3,4)\n",
    "print( T )\n",
    "print( T.flatten(start_dim=0,end_dim=1) )\n",
    "print( T.flatten(start_dim=1,end_dim=2) )"
   ]
  },
  {
   "cell_type": "code",
   "execution_count": 141,
   "id": "851d7946",
   "metadata": {},
   "outputs": [
    {
     "name": "stdout",
     "output_type": "stream",
     "text": [
      "0.3183932304382324\n",
      "0.38050413131713867\n"
     ]
    }
   ],
   "source": [
    "s = time.time()\n",
    "for i in range(100000):\n",
    "    for j in range(100):\n",
    "        pass\n",
    "print( time.time()-s )\n",
    "\n",
    "s = time.time()\n",
    "for i in range(100):\n",
    "    for j in range(100000):\n",
    "        pass\n",
    "print( time.time()-s )"
   ]
  },
  {
   "cell_type": "code",
   "execution_count": 46,
   "id": "5ce72fc0",
   "metadata": {},
   "outputs": [
    {
     "name": "stdout",
     "output_type": "stream",
     "text": [
      "torch.Size([2, 2, 3])\n"
     ]
    },
    {
     "data": {
      "text/plain": [
       "tensor([[[0.0900, 0.2447, 0.6652],\n",
       "         [0.0900, 0.2447, 0.6652]],\n",
       "\n",
       "        [[0.0900, 0.2447, 0.6652],\n",
       "         [0.6652, 0.2447, 0.0900]]])"
      ]
     },
     "execution_count": 46,
     "metadata": {},
     "output_type": "execute_result"
    }
   ],
   "source": [
    "T = torch.Tensor([ [[1,2,3],[4,5,6]], [[7,8,9],[-1,-2,-3]] ])\n",
    "print(T.shape)\n",
    "torch.softmax(T,axis=-1)"
   ]
  },
  {
   "cell_type": "code",
   "execution_count": 45,
   "id": "344189e0",
   "metadata": {},
   "outputs": [
    {
     "data": {
      "text/plain": [
       "0.24472856574435603"
      ]
     },
     "execution_count": 45,
     "metadata": {},
     "output_type": "execute_result"
    }
   ],
   "source": [
    "e = 2.71828\n",
    "e**2/(e**1+e**2+e**3)"
   ]
  },
  {
   "cell_type": "code",
   "execution_count": 63,
   "id": "f747c7ee",
   "metadata": {},
   "outputs": [
    {
     "data": {
      "text/plain": [
       "tensor([[[101., 202., 303.],\n",
       "         [104., 205., 306.]],\n",
       "\n",
       "        [[101., 202., 303.],\n",
       "         [104., 205., 306.]]])"
      ]
     },
     "execution_count": 63,
     "metadata": {},
     "output_type": "execute_result"
    }
   ],
   "source": [
    "torch.Tensor([ [[1,2,3],[4,5,6]], [[1,2,3],[4,5,6]] ]) + torch.Tensor([100,200,300])"
   ]
  },
  {
   "cell_type": "code",
   "execution_count": null,
   "id": "1d3132f9",
   "metadata": {},
   "outputs": [],
   "source": []
  }
 ],
 "metadata": {
  "kernelspec": {
   "display_name": "Python 3 (ipykernel)",
   "language": "python",
   "name": "python3"
  },
  "language_info": {
   "codemirror_mode": {
    "name": "ipython",
    "version": 3
   },
   "file_extension": ".py",
   "mimetype": "text/x-python",
   "name": "python",
   "nbconvert_exporter": "python",
   "pygments_lexer": "ipython3",
   "version": "3.7.13"
  }
 },
 "nbformat": 4,
 "nbformat_minor": 5
}
